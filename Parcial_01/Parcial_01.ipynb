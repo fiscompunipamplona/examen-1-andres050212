{
 "cells": [
  {
   "cell_type": "markdown",
   "metadata": {},
   "source": [
    "# Solución: Péndulo En Movimiento"
   ]
  },
  {
   "cell_type": "markdown",
   "metadata": {},
   "source": [
    "A continuación se describe análitica y computacionalmente la solución para un péndulo en movimiento.\n",
    "El péndulo tiene una masa \"m\" y una cuerda de longitud \"l\" con masa despreciable, además está sujeto a un bloque de masa \"M\" que se mueve en la dirección \"x\"."
   ]
  },
  {
   "cell_type": "markdown",
   "metadata": {},
   "source": [
    "Para la solución de nuestro problema debemos hallar primero las ecuaciones del movimiento y esto se hace con las ecuaciones de Lagrange."
   ]
  },
  {
   "cell_type": "markdown",
   "metadata": {},
   "source": [
    "Primero que todo debemos hallar las posiciones en las que se encuentran nuestras masas:\n",
    "\\begin{equation*}\n",
    "x_{M}=x\n",
    "\\end{equation*}\n",
    "\n",
    "\\begin{equation*}\n",
    "y_{M}=0\n",
    "\\end{equation*}\n",
    "\n",
    "\\begin{equation*}\n",
    "x_{m}=x_{M}+lsin\\theta\n",
    "\\end{equation*}\n",
    "\n",
    "\\begin{equation*}\n",
    "y_{m}=-lcos\\theta\n",
    "\\end{equation*}\n",
    "\n",
    "\n"
   ]
  },
  {
   "cell_type": "markdown",
   "metadata": {},
   "source": [
    "Seguidamente vamos a hallar las velocidades:\n",
    "\\begin{equation*}\n",
    "x'_M=\\dot{x}\n",
    "\\end{equation*}\n",
    "\n",
    "\\begin{equation*}\n",
    "y'_{M}=0\n",
    "\\end{equation*}\n",
    "\n",
    "\\begin{equation*}\n",
    "x'_{m}=\\dot{x}+l\\dot{\\theta}cos\\theta\n",
    "\\end{equation*}\n",
    "\n",
    "\\begin{equation*}\n",
    "y'_{m}=l\\dot{\\theta}sin\\theta\n",
    "\\end{equation*}"
   ]
  },
  {
   "cell_type": "markdown",
   "metadata": {},
   "source": [
    "Con las velocidades hallamos la energía cinética(T) y potencial(U) de nuestro sistema:\n",
    "\\begin{equation*}\n",
    "T=\\frac{1}{2}M{\\dot{x}}²+\\frac{1}{2}m[{\\dot{x}}²+2\\dot{x}\\dot{\\theta}lcos\\theta+l²{\\dot{\\theta}}²]\n",
    "\\end{equation*}\n",
    "\\begin{equation*}\n",
    "U=-mglcos\\theta\n",
    "\\end{equation*}"
   ]
  },
  {
   "cell_type": "markdown",
   "metadata": {},
   "source": [
    "El lagrangiano de nuestro sistema queda de la siguiente manera:\n",
    "\\begin{equation*}\n",
    "L=T-U\n",
    "\\end{equation*} \n",
    "\\begin{equation*}\n",
    "L=\\frac{1}{2}{\\dot{x}}²(M+m)+m\\bigg[{\\dot{x}}²+2\\dot{x}\\dot{\\theta}lcos\\theta+\\frac{ml²{\\dot{\\theta}}²}{2}\\bigg]+mglcos\\theta\n",
    "\\end{equation*}  \n"
   ]
  },
  {
   "cell_type": "markdown",
   "metadata": {},
   "source": [
    "Aplicando las ecuaciones de Euler_Lagrange para $\\theta$ y x, tenemos:\n",
    "\\begin{equation}\n",
    "\\frac{\\partial{L}}{\\partial{\\theta}}-\\frac{d}{dt}\\bigg(\\frac{\\partial{L}}{\\partial{\\dot{\\theta}}}\\bigg)=0\\quad(1)\n",
    "\\end{equation}\n",
    "\n",
    "\\begin{equation}\n",
    "\\frac{\\partial{L}}{\\partial{x}}-\\frac{d}{dt}\\bigg(\\frac{\\partial{L}}{\\partial{\\dot{x}}}\\bigg)=0\\quad(2)\n",
    "\\end{equation}"
   ]
  },
  {
   "cell_type": "markdown",
   "metadata": {},
   "source": [
    "La solución  para  (1) y (2) respectivamente son:\n",
    "\\begin{equation*}\n",
    "\\ddot{\\theta}=-\\frac{g}{l}sin\\theta-\\ddot{x}\\frac{cos\\theta}{l}\\quad(3)\n",
    "\\end{equation*}\n",
    "\n",
    "\\begin{equation*}\n",
    "\\ddot{x}=\\frac{m{\\dot{\\theta}}²lsin\\theta-m\\ddot{\\theta}lcos\\theta}{(m+M)}\\quad(4)\n",
    "\\end{equation*}"
   ]
  },
  {
   "cell_type": "markdown",
   "metadata": {},
   "source": [
    "Como las 2 ecuaciones están acopladas, vamos a desacoplar una de las 2 y la reemplazamos en la otra ecuación\n",
    "para poder bajar el orden y posteriormente solucionar con la funcion \"Odeint\", para nuestro caso vamos a desacoplar (3) quedando de la siguiente manera nuestras ecuaciones finales:\n",
    "\n",
    "\\begin{equation*}\n",
    "\\ddot{\\theta}=\\frac{-\\frac{g}{l}sin\\theta-\\frac{m}{m+M}{\\dot{\\theta}}²cos\\theta sin\\theta}{\\bigg[1+(\\frac{m}{m+M})cos²\\theta\\bigg]}\n",
    "\\end{equation*}\n",
    "\n",
    "\\begin{equation*}\n",
    "\\ddot{x}=\\frac{m{\\dot{\\theta}}²lsin\\theta-m\\ddot{\\theta}lcos\\theta}{(m+M)}\n",
    "\\end{equation*}"
   ]
  },
  {
   "cell_type": "markdown",
   "metadata": {},
   "source": [
    "Con las ecuaciones anteriores se introducen dentro del programa que se encuentra a continuación y con esto damos\n",
    "solución a nuestro problema."
   ]
  },
  {
   "cell_type": "code",
   "execution_count": 1,
   "metadata": {},
   "outputs": [
    {
     "data": {
      "text/html": [
       "<div id=\"glowscript\" class=\"glowscript\"></div>"
      ],
      "text/plain": [
       "<IPython.core.display.HTML object>"
      ]
     },
     "metadata": {},
     "output_type": "display_data"
    },
    {
     "data": {
      "application/javascript": [
       "if (typeof Jupyter !== \"undefined\") { window.__context = { glowscript_container: $(\"#glowscript\").removeAttr(\"id\")};}else{ element.textContent = ' ';}"
      ],
      "text/plain": [
       "<IPython.core.display.Javascript object>"
      ]
     },
     "metadata": {},
     "output_type": "display_data"
    },
    {
     "data": {
      "application/javascript": [
       "if (typeof Jupyter !== \"undefined\") {require.undef(\"nbextensions/vpython_libraries/glow.min\");}else{element.textContent = ' ';}"
      ],
      "text/plain": [
       "<IPython.core.display.Javascript object>"
      ]
     },
     "metadata": {},
     "output_type": "display_data"
    },
    {
     "data": {
      "application/javascript": [
       "if (typeof Jupyter !== \"undefined\") {require.undef(\"nbextensions/vpython_libraries/glowcomm\");}else{element.textContent = ' ';}"
      ],
      "text/plain": [
       "<IPython.core.display.Javascript object>"
      ]
     },
     "metadata": {},
     "output_type": "display_data"
    },
    {
     "data": {
      "application/javascript": [
       "if (typeof Jupyter !== \"undefined\") {require.undef(\"nbextensions/vpython_libraries/jquery-ui.custom.min\");}else{element.textContent = ' ';}"
      ],
      "text/plain": [
       "<IPython.core.display.Javascript object>"
      ]
     },
     "metadata": {},
     "output_type": "display_data"
    },
    {
     "data": {
      "application/javascript": [
       "if (typeof Jupyter !== \"undefined\") {require([\"nbextensions/vpython_libraries/glow.min\"], function(){console.log(\"GLOW LOADED\");});}else{element.textContent = ' ';}"
      ],
      "text/plain": [
       "<IPython.core.display.Javascript object>"
      ]
     },
     "metadata": {},
     "output_type": "display_data"
    },
    {
     "data": {
      "application/javascript": [
       "if (typeof Jupyter !== \"undefined\") {require([\"nbextensions/vpython_libraries/glowcomm\"], function(){console.log(\"GLOWCOMM LOADED\");});}else{element.textContent = ' ';}"
      ],
      "text/plain": [
       "<IPython.core.display.Javascript object>"
      ]
     },
     "metadata": {},
     "output_type": "display_data"
    },
    {
     "data": {
      "application/javascript": [
       "if (typeof Jupyter !== \"undefined\") {require([\"nbextensions/vpython_libraries/jquery-ui.custom.min\"], function(){console.log(\"JQUERY LOADED\");});}else{element.textContent = ' ';}"
      ],
      "text/plain": [
       "<IPython.core.display.Javascript object>"
      ]
     },
     "metadata": {},
     "output_type": "display_data"
    }
   ],
   "source": [
    "from numpy import array, linspace\n",
    "from math import sin, cos, pi,tan \n",
    "from pylab import plot, xlabel, ylabel, show\n",
    "import matplotlib.pyplot as plt\n",
    "from scipy.integrate import odeint\n",
    "from vpython import sphere, scene, vector, color, arrow, text, sleep, box\n",
    "\n",
    "arrow_size = 0.5  #Tamaño de la flechas\n",
    "\n",
    "\n",
    "#Posiciones y colores de las flechas\n",
    "\n",
    "arrow_x = arrow(pos=vector(0,0,0), axis=vector(arrow_size,0,0), color=color.red)\n",
    "arrow_y = arrow(pos=vector(0,0,0), axis=vector(0,arrow_size,0), color=color.green)\n",
    "arrow_z = arrow(pos=vector(0,0,0), axis=vector(0,0,arrow_size))\n",
    "\n",
    "\n",
    "#parámetros\n",
    "\n",
    "m=1 #masa péndulo\n",
    "M=0.1 #masa bloque\n",
    "l =1 #longitud de la cuerda\n",
    "g=9.8 #aceleracion de la gravedad en la tierra\n",
    "    \n",
    "def pendulo (init, t):\n",
    "        \n",
    "    m=1 #masa péndulo\n",
    "    M=0.1 #masa bloque\n",
    "    l =1 #longitud de la cuerda\n",
    "    g=9.8 #aceleración de la gravedad en la tierra\n",
    "    \n",
    "    w=init[0] #Ángulo\n",
    "    x=init[1]  #Posición inicial\n",
    "    \n",
    "    dx=init[2] #Velocidad en x\n",
    "    dw=init[3] #Velocidad \n",
    "           \n",
    "    dv_w= (((-g/l)*sin(w)-(m/(m+M))*dw*dw*sin(w)*cos(w))/(1+(m/(m+M))*cos(w)*cos(w))) #Aceleración Angular\n",
    "    dv_x= ((m*dw*dw*l*sin(w)-m*dv_w*l*cos(w))/(m+M) ) #aceleración x\n",
    "   \n",
    "    return array([dw,dx, w, x],float)\n",
    "    \n",
    "n_steps = 1000  #Número de pasos\n",
    "t_start = 0. #Tiempo Inicial\n",
    "t_final = 15. #Tiempo Final\n",
    "t_delta = (t_final - t_start) / n_steps \n",
    "\n",
    "t = linspace(t_start, t_final, n_steps)\n",
    "\n",
    "init= [3*pi/180., 1 ,0 ,0] #Condiciones iniciales\n",
    "\n",
    "sol,outodeint = odeint(pendulo, init, t, full_output=True)\n",
    "vww, vxx, ww, xx = sol.T\n",
    "\n",
    "scene.range = 2 # m\n",
    "\n",
    "x = 0.+l*sin(init[0])\n",
    "y = -l*cos(init[0])\n",
    "z = 0.\n",
    "x2 = 0.\n",
    "y2=0.\n",
    "\n",
    "sleeptime = 0.001\n",
    "\n",
    "#Dibujo de la masa M y las esfera del péndulo\n",
    "prtcl = sphere(pos=vector(x,y,z), radius=0.1, color=color.cyan)\n",
    "prtcl2 = box(size=vector(0.2,0.2,0.2),pos=vector(x2,y2,z), color=color.cyan)\n",
    "\n",
    "time_i = 0\n",
    "t_run = 0\n",
    "\n",
    "#Código para la gráfica:\n",
    "while t_run < t_final:\n",
    "    sleep(sleeptime)\n",
    "    prtcl.pos = vector( xx[time_i]+l*sin(ww[time_i]), -l*cos(ww[time_i]), z )\n",
    "    prtcl2.pos = vector( xx[time_i],y2, z )\n",
    "    t_run += t_delta\n",
    "    time_i += 1\n",
    "    \n"
   ]
  },
  {
   "cell_type": "markdown",
   "metadata": {},
   "source": [
    "# Energía Cinética"
   ]
  },
  {
   "cell_type": "code",
   "execution_count": 5,
   "metadata": {},
   "outputs": [
    {
     "data": {
      "image/png": "[encoded data removed]",
      "text/plain": [
       "<matplotlib.figure.Figure at 0x7faed1cd16a0>"
      ]
     },
     "metadata": {
      "needs_background": "light"
     },
     "output_type": "display_data"
    }
   ],
   "source": [
    "energy_T = []\n",
    "\n",
    "for i in range(len(xx)):\n",
    "    energy_T.append((((1/2)*(m+M)*vxx[i]*vxx[i])+(l*m*vxx[i]*vww[i]*cos(ww[i]))+((1/2)*m*l*vww[i]*vww[i])+(m*l*cos(ww[i])*g)))\n",
    "\n",
    "plt.plot(energy_T)\n",
    "plt.show()"
   ]
  },
  {
   "cell_type": "markdown",
   "metadata": {},
   "source": [
    "# Energía Potencial"
   ]
  },
  {
   "cell_type": "code",
   "execution_count": 3,
   "metadata": {
    "scrolled": true
   },
   "outputs": [
    {
     "data": {
      "image/png": "[encoded data removed]",
      "text/plain": [
       "<matplotlib.figure.Figure at 0x7faefc615e80>"
      ]
     },
     "metadata": {
      "needs_background": "light"
     },
     "output_type": "display_data"
    }
   ],
   "source": [
    "energy_U = []\n",
    "\n",
    "for i in range(len(xx)):\n",
    "    energy_U.append((-m*g*l*cos(ww[i])))\n",
    "    \n",
    "plt.plot(energy_U)\n",
    "plt.show()"
   ]
  },
  {
   "cell_type": "markdown",
   "metadata": {},
   "source": [
    "# Energía Total"
   ]
  },
  {
   "cell_type": "code",
   "execution_count": 4,
   "metadata": {},
   "outputs": [
    {
     "data": {
      "image/png": "[encoded data removed]",
      "text/plain": [
       "<matplotlib.figure.Figure at 0x7faed1d64fd0>"
      ]
     },
     "metadata": {
      "needs_background": "light"
     },
     "output_type": "display_data"
    }
   ],
   "source": [
    "energy_M = []\n",
    "\n",
    "for i in range(len(xx)):\n",
    "    energy_M.append(((((1/2)*(m+M)*vxx[i]*vxx[i])+(l*m*vxx[i]*vww[i]*cos(ww[i]))+((1/2)*m*l*vww[i]*vww[i])+(m*l*cos(ww[i])*g)))+(-m*g*l*cos(ww[i])))\n",
    "\n",
    "plt.plot(energy_M)\n",
    "plt.show()"
   ]
  }
 ],
 "metadata": {
  "kernelspec": {
   "display_name": "Python 3",
   "language": "python",
   "name": "python3"
  },
  "language_info": {
   "codemirror_mode": {
    "name": "ipython",
    "version": 3
   },
   "file_extension": ".py",
   "mimetype": "text/x-python",
   "name": "python",
   "nbconvert_exporter": "python",
   "pygments_lexer": "ipython3",
   "version": "3.6.8"
  }
 },
 "nbformat": 4,
 "nbformat_minor": 2
}
